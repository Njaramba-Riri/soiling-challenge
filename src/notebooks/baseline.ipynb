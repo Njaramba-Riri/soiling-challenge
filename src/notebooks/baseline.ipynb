{
 "cells": [
  {
   "cell_type": "code",
   "execution_count": 1,
   "metadata": {
    "tags": []
   },
   "outputs": [],
   "source": [
    "import os\n",
    "import pickle\n",
    "\n",
    "import pandas as pd\n",
    "import matplotlib.pyplot as plt\n",
    "import seaborn as sns\n",
    "\n",
    "from scipy.stats import chi2_contingency\n",
    "\n",
    "from sklearn.preprocessing import OneHotEncoder, LabelEncoder, StandardScaler\n",
    "from sklearn.model_selection import train_test_split\n",
    "from sklearn.metrics import confusion_matrix, classification_report, f1_score, recall_score, precision_score\n",
    "\n",
    "from sklearn.linear_model import LogisticRegression\n",
    "from xgboost import XGBClassifier\n",
    "from catboost import CatBoostRegressor, CatBoostClassifier"
   ]
  },
  {
   "cell_type": "code",
   "execution_count": 3,
   "metadata": {
    "tags": []
   },
   "outputs": [
    {
     "data": {
      "text/html": [
       "<div>\n",
       "<style scoped>\n",
       "    .dataframe tbody tr th:only-of-type {\n",
       "        vertical-align: middle;\n",
       "    }\n",
       "\n",
       "    .dataframe tbody tr th {\n",
       "        vertical-align: top;\n",
       "    }\n",
       "\n",
       "    .dataframe thead th {\n",
       "        text-align: right;\n",
       "    }\n",
       "</style>\n",
       "<table border=\"1\" class=\"dataframe\">\n",
       "  <thead>\n",
       "    <tr style=\"text-align: right;\">\n",
       "      <th></th>\n",
       "      <th>client</th>\n",
       "      <th>gender</th>\n",
       "      <th>age</th>\n",
       "      <th>hours_slept</th>\n",
       "      <th>sleep_quality</th>\n",
       "      <th>main_food_taken</th>\n",
       "      <th>food_taken_amount</th>\n",
       "      <th>drink</th>\n",
       "      <th>temperature(deg)</th>\n",
       "      <th>exercise</th>\n",
       "      <th>medication</th>\n",
       "      <th>breakfast_time</th>\n",
       "      <th>lunch_time</th>\n",
       "      <th>supper_time</th>\n",
       "      <th>visit_restroom</th>\n",
       "      <th>times_visited</th>\n",
       "      <th>avg_relieve_time(min)</th>\n",
       "      <th>soiled</th>\n",
       "    </tr>\n",
       "  </thead>\n",
       "  <tbody>\n",
       "    <tr>\n",
       "      <th>0</th>\n",
       "      <td>Alexander</td>\n",
       "      <td>Male</td>\n",
       "      <td>6</td>\n",
       "      <td>6</td>\n",
       "      <td>Good</td>\n",
       "      <td>Rice</td>\n",
       "      <td>Heavy</td>\n",
       "      <td>Water</td>\n",
       "      <td>27.4</td>\n",
       "      <td>No</td>\n",
       "      <td>No</td>\n",
       "      <td>09:45</td>\n",
       "      <td>13:41</td>\n",
       "      <td>19:38</td>\n",
       "      <td>No</td>\n",
       "      <td>0</td>\n",
       "      <td>15</td>\n",
       "      <td>No</td>\n",
       "    </tr>\n",
       "    <tr>\n",
       "      <th>1</th>\n",
       "      <td>Pauline</td>\n",
       "      <td>Female</td>\n",
       "      <td>7</td>\n",
       "      <td>8</td>\n",
       "      <td>Excellent</td>\n",
       "      <td>Meat</td>\n",
       "      <td>Heavy</td>\n",
       "      <td>Water</td>\n",
       "      <td>16.1</td>\n",
       "      <td>No</td>\n",
       "      <td>Yes</td>\n",
       "      <td>09:32</td>\n",
       "      <td>13:16</td>\n",
       "      <td>18:44</td>\n",
       "      <td>No</td>\n",
       "      <td>0</td>\n",
       "      <td>27</td>\n",
       "      <td>No</td>\n",
       "    </tr>\n",
       "    <tr>\n",
       "      <th>2</th>\n",
       "      <td>Cartwright</td>\n",
       "      <td>Male</td>\n",
       "      <td>12</td>\n",
       "      <td>6</td>\n",
       "      <td>Good</td>\n",
       "      <td>Veggies</td>\n",
       "      <td>Normal</td>\n",
       "      <td>Coffee</td>\n",
       "      <td>24.5</td>\n",
       "      <td>No</td>\n",
       "      <td>Yes</td>\n",
       "      <td>09:32</td>\n",
       "      <td>13:01</td>\n",
       "      <td>18:25</td>\n",
       "      <td>No</td>\n",
       "      <td>0</td>\n",
       "      <td>53</td>\n",
       "      <td>No</td>\n",
       "    </tr>\n",
       "    <tr>\n",
       "      <th>3</th>\n",
       "      <td>O'Connor-Cunningham</td>\n",
       "      <td>Male</td>\n",
       "      <td>8</td>\n",
       "      <td>6</td>\n",
       "      <td>Good</td>\n",
       "      <td>Githeri</td>\n",
       "      <td>Normal</td>\n",
       "      <td>Porridge</td>\n",
       "      <td>25.5</td>\n",
       "      <td>No</td>\n",
       "      <td>Yes</td>\n",
       "      <td>08:59</td>\n",
       "      <td>12:34</td>\n",
       "      <td>18:46</td>\n",
       "      <td>No</td>\n",
       "      <td>0</td>\n",
       "      <td>52</td>\n",
       "      <td>No</td>\n",
       "    </tr>\n",
       "    <tr>\n",
       "      <th>4</th>\n",
       "      <td>Walker</td>\n",
       "      <td>Female</td>\n",
       "      <td>7</td>\n",
       "      <td>6</td>\n",
       "      <td>Good</td>\n",
       "      <td>Veggies</td>\n",
       "      <td>Small</td>\n",
       "      <td>Tea</td>\n",
       "      <td>20.0</td>\n",
       "      <td>No</td>\n",
       "      <td>No</td>\n",
       "      <td>09:25</td>\n",
       "      <td>13:21</td>\n",
       "      <td>19:18</td>\n",
       "      <td>No</td>\n",
       "      <td>0</td>\n",
       "      <td>30</td>\n",
       "      <td>Yes</td>\n",
       "    </tr>\n",
       "  </tbody>\n",
       "</table>\n",
       "</div>"
      ],
      "text/plain": [
       "                client  gender  age  hours_slept sleep_quality  \\\n",
       "0            Alexander    Male    6            6          Good   \n",
       "1              Pauline  Female    7            8     Excellent   \n",
       "2           Cartwright    Male   12            6          Good   \n",
       "3  O'Connor-Cunningham    Male    8            6          Good   \n",
       "4               Walker  Female    7            6          Good   \n",
       "\n",
       "  main_food_taken food_taken_amount     drink  temperature(deg) exercise  \\\n",
       "0            Rice             Heavy     Water              27.4       No   \n",
       "1            Meat             Heavy     Water              16.1       No   \n",
       "2         Veggies            Normal    Coffee              24.5       No   \n",
       "3         Githeri            Normal  Porridge              25.5       No   \n",
       "4         Veggies             Small       Tea              20.0       No   \n",
       "\n",
       "  medication breakfast_time lunch_time supper_time visit_restroom  \\\n",
       "0         No          09:45      13:41       19:38             No   \n",
       "1        Yes          09:32      13:16       18:44             No   \n",
       "2        Yes          09:32      13:01       18:25             No   \n",
       "3        Yes          08:59      12:34       18:46             No   \n",
       "4         No          09:25      13:21       19:18             No   \n",
       "\n",
       "   times_visited  avg_relieve_time(min) soiled  \n",
       "0              0                     15     No  \n",
       "1              0                     27     No  \n",
       "2              0                     53     No  \n",
       "3              0                     52     No  \n",
       "4              0                     30    Yes  "
      ]
     },
     "execution_count": 3,
     "metadata": {},
     "output_type": "execute_result"
    }
   ],
   "source": [
    "df = pd.read_csv(\"/home/riri/Desktop/Soiling/datasets/soiling.csv\")\n",
    "df.head()"
   ]
  },
  {
   "cell_type": "code",
   "execution_count": 4,
   "metadata": {
    "tags": []
   },
   "outputs": [
    {
     "data": {
      "text/html": [
       "<div>\n",
       "<style scoped>\n",
       "    .dataframe tbody tr th:only-of-type {\n",
       "        vertical-align: middle;\n",
       "    }\n",
       "\n",
       "    .dataframe tbody tr th {\n",
       "        vertical-align: top;\n",
       "    }\n",
       "\n",
       "    .dataframe thead th {\n",
       "        text-align: right;\n",
       "    }\n",
       "</style>\n",
       "<table border=\"1\" class=\"dataframe\">\n",
       "  <thead>\n",
       "    <tr style=\"text-align: right;\">\n",
       "      <th></th>\n",
       "      <th>count</th>\n",
       "      <th>mean</th>\n",
       "      <th>std</th>\n",
       "      <th>min</th>\n",
       "      <th>25%</th>\n",
       "      <th>50%</th>\n",
       "      <th>75%</th>\n",
       "      <th>max</th>\n",
       "    </tr>\n",
       "  </thead>\n",
       "  <tbody>\n",
       "    <tr>\n",
       "      <th>age</th>\n",
       "      <td>28532.0</td>\n",
       "      <td>7.985981</td>\n",
       "      <td>2.011258</td>\n",
       "      <td>0.0</td>\n",
       "      <td>7.0</td>\n",
       "      <td>8.0</td>\n",
       "      <td>9.0</td>\n",
       "      <td>16.0</td>\n",
       "    </tr>\n",
       "    <tr>\n",
       "      <th>hours_slept</th>\n",
       "      <td>28532.0</td>\n",
       "      <td>6.991658</td>\n",
       "      <td>1.042506</td>\n",
       "      <td>3.0</td>\n",
       "      <td>6.0</td>\n",
       "      <td>7.0</td>\n",
       "      <td>8.0</td>\n",
       "      <td>11.0</td>\n",
       "    </tr>\n",
       "    <tr>\n",
       "      <th>temperature(deg)</th>\n",
       "      <td>28532.0</td>\n",
       "      <td>18.491865</td>\n",
       "      <td>3.524966</td>\n",
       "      <td>1.2</td>\n",
       "      <td>16.1</td>\n",
       "      <td>18.5</td>\n",
       "      <td>20.9</td>\n",
       "      <td>32.8</td>\n",
       "    </tr>\n",
       "    <tr>\n",
       "      <th>times_visited</th>\n",
       "      <td>28532.0</td>\n",
       "      <td>1.498283</td>\n",
       "      <td>1.809482</td>\n",
       "      <td>0.0</td>\n",
       "      <td>0.0</td>\n",
       "      <td>0.0</td>\n",
       "      <td>3.0</td>\n",
       "      <td>5.0</td>\n",
       "    </tr>\n",
       "    <tr>\n",
       "      <th>avg_relieve_time(min)</th>\n",
       "      <td>28532.0</td>\n",
       "      <td>37.490537</td>\n",
       "      <td>13.269377</td>\n",
       "      <td>15.0</td>\n",
       "      <td>26.0</td>\n",
       "      <td>38.0</td>\n",
       "      <td>49.0</td>\n",
       "      <td>60.0</td>\n",
       "    </tr>\n",
       "  </tbody>\n",
       "</table>\n",
       "</div>"
      ],
      "text/plain": [
       "                         count       mean        std   min   25%   50%   75%  \\\n",
       "age                    28532.0   7.985981   2.011258   0.0   7.0   8.0   9.0   \n",
       "hours_slept            28532.0   6.991658   1.042506   3.0   6.0   7.0   8.0   \n",
       "temperature(deg)       28532.0  18.491865   3.524966   1.2  16.1  18.5  20.9   \n",
       "times_visited          28532.0   1.498283   1.809482   0.0   0.0   0.0   3.0   \n",
       "avg_relieve_time(min)  28532.0  37.490537  13.269377  15.0  26.0  38.0  49.0   \n",
       "\n",
       "                        max  \n",
       "age                    16.0  \n",
       "hours_slept            11.0  \n",
       "temperature(deg)       32.8  \n",
       "times_visited           5.0  \n",
       "avg_relieve_time(min)  60.0  "
      ]
     },
     "execution_count": 4,
     "metadata": {},
     "output_type": "execute_result"
    }
   ],
   "source": [
    "df.describe().T"
   ]
  },
  {
   "cell_type": "code",
   "execution_count": 5,
   "metadata": {
    "tags": []
   },
   "outputs": [
    {
     "name": "stdout",
     "output_type": "stream",
     "text": [
      "<class 'pandas.core.frame.DataFrame'>\n",
      "RangeIndex: 28532 entries, 0 to 28531\n",
      "Data columns (total 18 columns):\n",
      " #   Column                 Non-Null Count  Dtype  \n",
      "---  ------                 --------------  -----  \n",
      " 0   client                 28532 non-null  object \n",
      " 1   gender                 28532 non-null  object \n",
      " 2   age                    28532 non-null  int64  \n",
      " 3   hours_slept            28532 non-null  int64  \n",
      " 4   sleep_quality          28532 non-null  object \n",
      " 5   main_food_taken        28532 non-null  object \n",
      " 6   food_taken_amount      28532 non-null  object \n",
      " 7   drink                  28532 non-null  object \n",
      " 8   temperature(deg)       28532 non-null  float64\n",
      " 9   exercise               28532 non-null  object \n",
      " 10  medication             28532 non-null  object \n",
      " 11  breakfast_time         28532 non-null  object \n",
      " 12  lunch_time             28532 non-null  object \n",
      " 13  supper_time            28532 non-null  object \n",
      " 14  visit_restroom         28532 non-null  object \n",
      " 15  times_visited          28532 non-null  int64  \n",
      " 16  avg_relieve_time(min)  28532 non-null  int64  \n",
      " 17  soiled                 28532 non-null  object \n",
      "dtypes: float64(1), int64(4), object(13)\n",
      "memory usage: 3.9+ MB\n"
     ]
    }
   ],
   "source": [
    "df.info()"
   ]
  },
  {
   "cell_type": "code",
   "execution_count": 6,
   "metadata": {
    "tags": []
   },
   "outputs": [
    {
     "name": "stderr",
     "output_type": "stream",
     "text": [
      "/home/riri/anaconda3/lib/python3.11/site-packages/seaborn/axisgrid.py:118: UserWarning: The figure layout has changed to tight\n",
      "  self._figure.tight_layout(*args, **kwargs)\n",
      "/tmp/ipykernel_44020/394113160.py:4: UserWarning: The figure layout has changed to tight\n",
      "  plt.tight_layout()\n"
     ]
    },
    {
     "data": {
      "image/png": "[encoded data removed]",
      "text/plain": [
       "<Figure size 500x500 with 1 Axes>"
      ]
     },
     "metadata": {},
     "output_type": "display_data"
    },
    {
     "name": "stderr",
     "output_type": "stream",
     "text": [
      "/home/riri/anaconda3/lib/python3.11/site-packages/seaborn/axisgrid.py:118: UserWarning: The figure layout has changed to tight\n",
      "  self._figure.tight_layout(*args, **kwargs)\n",
      "/tmp/ipykernel_44020/394113160.py:4: UserWarning: The figure layout has changed to tight\n",
      "  plt.tight_layout()\n"
     ]
    },
    {
     "data": {
      "image/png": "[encoded data removed]",
      "text/plain": [
       "<Figure size 500x500 with 1 Axes>"
      ]
     },
     "metadata": {},
     "output_type": "display_data"
    },
    {
     "name": "stderr",
     "output_type": "stream",
     "text": [
      "/home/riri/anaconda3/lib/python3.11/site-packages/seaborn/axisgrid.py:118: UserWarning: The figure layout has changed to tight\n",
      "  self._figure.tight_layout(*args, **kwargs)\n",
      "/tmp/ipykernel_44020/394113160.py:4: UserWarning: The figure layout has changed to tight\n",
      "  plt.tight_layout()\n"
     ]
    },
    {
     "data": {
      "image/png": "[encoded data removed]",
      "text/plain": [
       "<Figure size 500x500 with 1 Axes>"
      ]
     },
     "metadata": {},
     "output_type": "display_data"
    },
    {
     "name": "stderr",
     "output_type": "stream",
     "text": [
      "/home/riri/anaconda3/lib/python3.11/site-packages/seaborn/axisgrid.py:118: UserWarning: The figure layout has changed to tight\n",
      "  self._figure.tight_layout(*args, **kwargs)\n",
      "/tmp/ipykernel_44020/394113160.py:4: UserWarning: The figure layout has changed to tight\n",
      "  plt.tight_layout()\n"
     ]
    },
    {
     "data": {
      "image/png": "[encoded data removed]",
      "text/plain": [
       "<Figure size 500x500 with 1 Axes>"
      ]
     },
     "metadata": {},
     "output_type": "display_data"
    },
    {
     "name": "stderr",
     "output_type": "stream",
     "text": [
      "/home/riri/anaconda3/lib/python3.11/site-packages/seaborn/axisgrid.py:118: UserWarning: The figure layout has changed to tight\n",
      "  self._figure.tight_layout(*args, **kwargs)\n",
      "/tmp/ipykernel_44020/394113160.py:4: UserWarning: The figure layout has changed to tight\n",
      "  plt.tight_layout()\n"
     ]
    },
    {
     "data": {
      "image/png": "[encoded data removed]",
      "text/plain": [
       "<Figure size 500x500 with 1 Axes>"
      ]
     },
     "metadata": {},
     "output_type": "display_data"
    },
    {
     "name": "stderr",
     "output_type": "stream",
     "text": [
      "/home/riri/anaconda3/lib/python3.11/site-packages/seaborn/axisgrid.py:118: UserWarning: The figure layout has changed to tight\n",
      "  self._figure.tight_layout(*args, **kwargs)\n",
      "/tmp/ipykernel_44020/394113160.py:4: UserWarning: The figure layout has changed to tight\n",
      "  plt.tight_layout()\n"
     ]
    },
    {
     "data": {
      "image/png": "[encoded data removed]",
      "text/plain": [
       "<Figure size 500x500 with 1 Axes>"
      ]
     },
     "metadata": {},
     "output_type": "display_data"
    },
    {
     "name": "stderr",
     "output_type": "stream",
     "text": [
      "/home/riri/anaconda3/lib/python3.11/site-packages/seaborn/axisgrid.py:118: UserWarning: The figure layout has changed to tight\n",
      "  self._figure.tight_layout(*args, **kwargs)\n",
      "/tmp/ipykernel_44020/394113160.py:4: UserWarning: The figure layout has changed to tight\n",
      "  plt.tight_layout()\n"
     ]
    },
    {
     "data": {
      "image/png": "[encoded data removed]",
      "text/plain": [
       "<Figure size 500x500 with 1 Axes>"
      ]
     },
     "metadata": {},
     "output_type": "display_data"
    },
    {
     "name": "stderr",
     "output_type": "stream",
     "text": [
      "/home/riri/anaconda3/lib/python3.11/site-packages/seaborn/axisgrid.py:118: UserWarning: The figure layout has changed to tight\n",
      "  self._figure.tight_layout(*args, **kwargs)\n",
      "/tmp/ipykernel_44020/394113160.py:4: UserWarning: The figure layout has changed to tight\n",
      "  plt.tight_layout()\n"
     ]
    },
    {
     "data": {
      "image/png": "[encoded data removed]",
      "text/plain": [
       "<Figure size 500x500 with 1 Axes>"
      ]
     },
     "metadata": {},
     "output_type": "display_data"
    },
    {
     "name": "stderr",
     "output_type": "stream",
     "text": [
      "/home/riri/anaconda3/lib/python3.11/site-packages/seaborn/axisgrid.py:118: UserWarning: The figure layout has changed to tight\n",
      "  self._figure.tight_layout(*args, **kwargs)\n",
      "/tmp/ipykernel_44020/394113160.py:4: UserWarning: The figure layout has changed to tight\n",
      "  plt.tight_layout()\n"
     ]
    },
    {
     "data": {
      "image/png": "[encoded data removed]",
      "text/plain": [
       "<Figure size 500x500 with 1 Axes>"
      ]
     },
     "metadata": {},
     "output_type": "display_data"
    }
   ],
   "source": [
    "for col in df.select_dtypes(include=['object', 'category']):\n",
    "    if col not in ['client', 'breakfast_time', 'lunch_time', 'supper_time']:\n",
    "        sns.catplot(data=df, x=col, kind=\"count\")\n",
    "        plt.tight_layout()\n",
    "        plt.show();"
   ]
  },
  {
   "cell_type": "code",
   "execution_count": 7,
   "metadata": {
    "tags": []
   },
   "outputs": [
    {
     "name": "stdout",
     "output_type": "stream",
     "text": [
      "************** Gender: 2 **************\n",
      "chi: 1.06637\n",
      "p-value: 0.30177\n",
      "Degree: 1\n",
      "Null Hypothesis: Accept\n",
      "\n",
      "************** Sleep Quality: 3 **************\n",
      "chi: 0.62174\n",
      "p-value: 0.73281\n",
      "Degree: 2\n",
      "Null Hypothesis: Accept\n",
      "\n",
      "************** Main Food Taken: 6 **************\n",
      "chi: 0.81839\n",
      "p-value: 0.97585\n",
      "Degree: 5\n",
      "Null Hypothesis: Accept\n",
      "\n",
      "************** Food Taken Amount: 3 **************\n",
      "chi: 0.97520\n",
      "p-value: 0.61410\n",
      "Degree: 2\n",
      "Null Hypothesis: Accept\n",
      "\n",
      "************** Drink: 5 **************\n",
      "chi: 2.72952\n",
      "p-value: 0.60406\n",
      "Degree: 4\n",
      "Null Hypothesis: Accept\n",
      "\n",
      "************** Exercise: 2 **************\n",
      "chi: 4.24167\n",
      "p-value: 0.03944\n",
      "Degree: 1\n",
      "Null Hypothesis: Reject\n",
      "\n",
      "************** Medication: 2 **************\n",
      "chi: 2.47101\n",
      "p-value: 0.11596\n",
      "Degree: 1\n",
      "Null Hypothesis: Accept\n",
      "\n",
      "************** Breakfast Time: 121 **************\n",
      "chi: 110.13878\n",
      "p-value: 0.72957\n",
      "Degree: 120\n",
      "Null Hypothesis: Accept\n",
      "\n",
      "************** Lunch Time: 91 **************\n",
      "chi: 78.83707\n",
      "p-value: 0.79358\n",
      "Degree: 90\n",
      "Null Hypothesis: Accept\n",
      "\n",
      "************** Supper Time: 121 **************\n",
      "chi: 123.68428\n",
      "p-value: 0.39036\n",
      "Degree: 120\n",
      "Null Hypothesis: Accept\n",
      "\n",
      "************** Visit Restroom: 2 **************\n",
      "chi: 0.12390\n",
      "p-value: 0.72484\n",
      "Degree: 1\n",
      "Null Hypothesis: Accept\n",
      "\n"
     ]
    }
   ],
   "source": [
    "df.drop(columns=['client', 'soiled'])\n",
    "\n",
    "for col in df.select_dtypes(include=['object']):\n",
    "    if col not in ('client', 'soiled'):\n",
    "        ct = pd.crosstab(df['soiled'], df[col])\n",
    "        chi, p_value, dof, expected = chi2_contingency(ct) \n",
    "        if p_value <= 0.05:\n",
    "            hypo = \"Reject\"\n",
    "        else:\n",
    "            hypo = \"Accept\"\n",
    "            \n",
    "        print(f\"************** {str(col).replace('_', ' ').title()}: {df[col].nunique()} **************\")\n",
    "        print(f\"chi: {chi:.5f}\\np-value: {p_value:.5f}\\nDegree: {dof}\\nNull Hypothesis: {hypo}\\n\")"
   ]
  },
  {
   "cell_type": "code",
   "execution_count": 8,
   "metadata": {
    "tags": []
   },
   "outputs": [
    {
     "data": {
      "text/plain": [
       "14568"
      ]
     },
     "execution_count": 8,
     "metadata": {},
     "output_type": "execute_result"
    }
   ],
   "source": [
    "df.duplicated(subset=['client', 'age', 'gender']).sum()"
   ]
  },
  {
   "cell_type": "code",
   "execution_count": 9,
   "metadata": {
    "tags": []
   },
   "outputs": [],
   "source": [
    "df.rename({'avg_relieve_time(min)': 'time' }, axis=1, inplace=True)\n",
    "data = df.drop_duplicates(keep='first')\n",
    "\n",
    "X = data.drop(columns=['client', 'breakfast_time', 'lunch_time', 'supper_time', 'soiled', 'time'], axis=1)\n",
    "y1 = data['soiled']\n",
    "y2 = data['time']"
   ]
  },
  {
   "cell_type": "code",
   "execution_count": 10,
   "metadata": {
    "tags": []
   },
   "outputs": [],
   "source": [
    "from sklearn.pipeline import Pipeline\n",
    "from sklearn.compose import ColumnTransformer\n",
    "from sklearn.impute import SimpleImputer\n",
    "\n",
    "\n",
    "def preprocess_inputs(data: pd.DataFrame):\n",
    "    cat_columns = [col for col in data.select_dtypes(include=['object', 'category'])]\n",
    "    num_columns = [col for col in data.select_dtypes(include=['int', 'float'])]\n",
    "    \n",
    "    cat_pipe = Pipeline(steps=[\n",
    "        (\"imputer\", SimpleImputer(strategy=\"most_frequent\")),\n",
    "        (\"encoder\", OneHotEncoder(sparse_output=False))\n",
    "    ])\n",
    "    \n",
    "    num_pipe = Pipeline(steps=[\n",
    "        (\"imputer\", SimpleImputer(strategy=\"mean\")),\n",
    "        (\"scaler\", StandardScaler())\n",
    "    ])  \n",
    "        \n",
    "    transformer = ColumnTransformer(transformers=[\n",
    "        (\"categorical\", cat_pipe, cat_columns),\n",
    "        (\"numerical\", num_pipe, num_columns)\n",
    "    ])\n",
    "    \n",
    "    preprocessed = transformer.fit_transform(data)\n",
    "    \n",
    "    return preprocessed"
   ]
  },
  {
   "cell_type": "code",
   "execution_count": 11,
   "metadata": {
    "tags": []
   },
   "outputs": [],
   "source": [
    "le = LabelEncoder()\n",
    "y1 = le.fit_transform(y1)\n",
    "new_x = preprocess_inputs(X)\n",
    "\n",
    "X_train, X_test, y_train, y_test = train_test_split(new_x, y1, test_size=0.33, random_state=42)"
   ]
  },
  {
   "cell_type": "code",
   "execution_count": 12,
   "metadata": {
    "tags": []
   },
   "outputs": [
    {
     "data": {
      "text/plain": [
       "((19116, 29), (9416, 29), (19116,))"
      ]
     },
     "execution_count": 12,
     "metadata": {},
     "output_type": "execute_result"
    }
   ],
   "source": [
    "X_train.shape, X_test.shape, y_train.shape"
   ]
  },
  {
   "cell_type": "code",
   "execution_count": 13,
   "metadata": {
    "tags": []
   },
   "outputs": [],
   "source": [
    "from sklearn.base import ClassifierMixin\n",
    "from sklearn.model_selection import StratifiedKFold\n",
    "import numpy as np\n",
    "\n",
    "def run_classifier(model, X_train: np.ndarray, y_train: np.ndarray, X_test: np.ndarray, y_test: np.ndarray):\n",
    "    scores = []\n",
    "    \n",
    "    # kfold = StratifiedKFold()\n",
    "    \n",
    "    # for (train_idx, val_idx) in enumerate(kfold.split(X, y)):\n",
    "    #     X_train, X_test = X[train_idx], \n",
    "        \n",
    "        \n",
    "    model.fit(X_train, y_train)\n",
    "    score = model.score(X_test, y_test)\n",
    "    \n",
    "    return score"
   ]
  },
  {
   "cell_type": "code",
   "execution_count": 14,
   "metadata": {
    "tags": []
   },
   "outputs": [
    {
     "data": {
      "text/plain": [
       "0.489910790144435"
      ]
     },
     "execution_count": 14,
     "metadata": {},
     "output_type": "execute_result"
    }
   ],
   "source": [
    "lr = LogisticRegression()\n",
    "run_classifier(lr, X_train, y_train, X_test, y_test)"
   ]
  },
  {
   "cell_type": "code",
   "execution_count": 15,
   "metadata": {
    "tags": []
   },
   "outputs": [
    {
     "data": {
      "text/plain": [
       "0.5056287170773152"
      ]
     },
     "execution_count": 15,
     "metadata": {},
     "output_type": "execute_result"
    }
   ],
   "source": [
    "xgb = XGBClassifier()\n",
    "run_classifier(xgb, X_train, y_train, X_test, y_test)"
   ]
  },
  {
   "cell_type": "code",
   "execution_count": 16,
   "metadata": {
    "tags": []
   },
   "outputs": [],
   "source": [
    "xgb.fit(X_train, y_train)\n",
    "\n",
    "y_pred = xgb.predict(X_test)"
   ]
  },
  {
   "cell_type": "code",
   "execution_count": 17,
   "metadata": {
    "tags": []
   },
   "outputs": [
    {
     "data": {
      "text/plain": [
       "0.7314291692822766"
      ]
     },
     "execution_count": 17,
     "metadata": {},
     "output_type": "execute_result"
    }
   ],
   "source": [
    "xgb.score(X_train, y_train)"
   ]
  },
  {
   "cell_type": "code",
   "execution_count": 18,
   "metadata": {
    "tags": []
   },
   "outputs": [
    {
     "name": "stdout",
     "output_type": "stream",
     "text": [
      "              precision    recall  f1-score   support\n",
      "\n",
      "          No       0.51      0.53      0.52      4718\n",
      "         Yes       0.50      0.49      0.49      4698\n",
      "\n",
      "    accuracy                           0.51      9416\n",
      "   macro avg       0.51      0.51      0.51      9416\n",
      "weighted avg       0.51      0.51      0.51      9416\n",
      "\n"
     ]
    }
   ],
   "source": [
    "print(classification_report(y_test, y_pred, target_names=le.classes_))"
   ]
  },
  {
   "cell_type": "code",
   "execution_count": 19,
   "metadata": {
    "tags": []
   },
   "outputs": [
    {
     "data": {
      "image/png": "[encoded data removed]",
      "text/plain": [
       "<Figure size 640x480 with 2 Axes>"
      ]
     },
     "metadata": {},
     "output_type": "display_data"
    }
   ],
   "source": [
    "cm = confusion_matrix(y_test, y_pred)\n",
    "sns.heatmap(cm, annot=True, square=True, cbar=True, fmt='d',\n",
    "            xticklabels=le.classes_, yticklabels=le.classes_)\n",
    "plt.title(\"XGBClassifier C_Matrix\", weight='bold', size=15)\n",
    "plt.xlabel(\"Predicted class\", weight=\"bold\", size=10)\n",
    "plt.ylabel(\"True label\", weight='bold', size=10)\n",
    "plt.tight_layout()\n",
    "plt.show();"
   ]
  },
  {
   "cell_type": "code",
   "execution_count": 20,
   "metadata": {
    "tags": []
   },
   "outputs": [],
   "source": [
    "DIR = '..'\n",
    "MODELS_DIR = os.path.join(DIR, 'models')\n",
    "os.makedirs(MODELS_DIR, exist_ok=True)\n",
    "\n",
    "xgb_path = os.path.join(MODELS_DIR, 'xgb.pkl')\n",
    "with open(xgb_path, 'wb') as file:\n",
    "    pickle.dump(xgb, file, protocol=pickle.HIGHEST_PROTOCOL)"
   ]
  },
  {
   "cell_type": "code",
   "execution_count": 21,
   "metadata": {
    "tags": []
   },
   "outputs": [
    {
     "data": {
      "text/plain": [
       "0.7314291692822766"
      ]
     },
     "execution_count": 21,
     "metadata": {},
     "output_type": "execute_result"
    }
   ],
   "source": [
    "with open(xgb_path, 'rb') as file:\n",
    "    model = pickle.load(file)\n",
    "\n",
    "model.score(X_train, y_train)"
   ]
  },
  {
   "cell_type": "markdown",
   "metadata": {
    "tags": []
   },
   "source": [
    "- Regressor"
   ]
  },
  {
   "cell_type": "code",
   "execution_count": 22,
   "metadata": {
    "tags": []
   },
   "outputs": [],
   "source": [
    "X_train, X_test, y_train, y_test = train_test_split(new_x, y2, test_size=0.33, random_state=42)"
   ]
  },
  {
   "cell_type": "code",
   "execution_count": 23,
   "metadata": {
    "tags": []
   },
   "outputs": [
    {
     "data": {
      "text/plain": [
       "-2.3509566772620905"
      ]
     },
     "execution_count": 23,
     "metadata": {},
     "output_type": "execute_result"
    }
   ],
   "source": [
    "from xgboost import XGBRegressor\n",
    "\n",
    "reg = XGBRegressor(n_estimators=600, \n",
    "                  max_depth=6,\n",
    "                  learning_rate=0.001,\n",
    "                  verbosity=0, \n",
    "                  random_state=42)\n",
    "\n",
    "reg.fit(X_train, y_train)\n",
    "\n",
    "reg.score(X_train, y_train)"
   ]
  },
  {
   "cell_type": "code",
   "execution_count": 24,
   "metadata": {
    "tags": []
   },
   "outputs": [
    {
     "data": {
      "text/plain": [
       "-2.3053122317072727"
      ]
     },
     "execution_count": 24,
     "metadata": {},
     "output_type": "execute_result"
    }
   ],
   "source": [
    "reg.score(X_test, y_test)"
   ]
  },
  {
   "cell_type": "code",
   "execution_count": 25,
   "metadata": {
    "tags": []
   },
   "outputs": [
    {
     "data": {
      "text/plain": [
       "array([17.974192, 17.482012, 17.446781, 17.196257, 17.183447, 17.62898 ],\n",
       "      dtype=float32)"
      ]
     },
     "execution_count": 25,
     "metadata": {},
     "output_type": "execute_result"
    }
   ],
   "source": [
    "reg.predict(X_test[:6])"
   ]
  },
  {
   "cell_type": "markdown",
   "metadata": {},
   "source": [
    "### CatBoost."
   ]
  },
  {
   "cell_type": "code",
   "execution_count": 26,
   "metadata": {
    "tags": []
   },
   "outputs": [],
   "source": [
    "X_train, X_test, y_train, y_test = train_test_split(X, y1, test_size=0.33, random_state=42)"
   ]
  },
  {
   "cell_type": "code",
   "execution_count": 27,
   "metadata": {
    "tags": []
   },
   "outputs": [],
   "source": [
    "cat = CatBoostClassifier(iterations=1000, learning_rate=0.001, depth=5, random_state=42)\n",
    "cats = [ col for col in X.select_dtypes(include=['object', 'category'])]"
   ]
  },
  {
   "cell_type": "code",
   "execution_count": 29,
   "metadata": {
    "tags": []
   },
   "outputs": [
    {
     "data": {
      "text/plain": [
       "<catboost.core.CatBoostClassifier at 0x766768806b90>"
      ]
     },
     "execution_count": 29,
     "metadata": {},
     "output_type": "execute_result"
    }
   ],
   "source": [
    "cat.fit(X_train, \n",
    "        y_train,\n",
    "        cat_features=cats,\n",
    "        eval_set=[(X_test, y_test)],\n",
    "        verbose=0)"
   ]
  },
  {
   "cell_type": "code",
   "execution_count": 30,
   "metadata": {
    "tags": []
   },
   "outputs": [
    {
     "data": {
      "text/plain": [
       "0.5044988491316175"
      ]
     },
     "execution_count": 30,
     "metadata": {},
     "output_type": "execute_result"
    }
   ],
   "source": [
    "cat.score(X_train, y_train)"
   ]
  },
  {
   "cell_type": "code",
   "execution_count": 31,
   "metadata": {
    "tags": []
   },
   "outputs": [
    {
     "data": {
      "text/plain": [
       "0.4871495327102804"
      ]
     },
     "execution_count": 31,
     "metadata": {},
     "output_type": "execute_result"
    }
   ],
   "source": [
    "cat.score(X_test, y_test)"
   ]
  },
  {
   "cell_type": "code",
   "execution_count": 32,
   "metadata": {
    "tags": []
   },
   "outputs": [
    {
     "data": {
      "text/plain": [
       "array([1, 0, 1, 1, 1])"
      ]
     },
     "execution_count": 32,
     "metadata": {},
     "output_type": "execute_result"
    }
   ],
   "source": [
    "cat.predict(X_test[:5])"
   ]
  },
  {
   "cell_type": "code",
   "execution_count": 33,
   "metadata": {
    "tags": []
   },
   "outputs": [
    {
     "data": {
      "text/plain": [
       "array([[0.49999714, 0.50000286],\n",
       "       [0.50000619, 0.49999381],\n",
       "       [0.49999714, 0.50000286],\n",
       "       [0.49999714, 0.50000286],\n",
       "       [0.49999714, 0.50000286]])"
      ]
     },
     "execution_count": 33,
     "metadata": {},
     "output_type": "execute_result"
    }
   ],
   "source": [
    "cat.predict_proba(X_test[:5])"
   ]
  },
  {
   "cell_type": "code",
   "execution_count": 34,
   "metadata": {
    "tags": []
   },
   "outputs": [],
   "source": [
    "labels = {0: 'No', 1: 'Yes'}"
   ]
  },
  {
   "cell_type": "code",
   "execution_count": 35,
   "metadata": {
    "tags": []
   },
   "outputs": [
    {
     "data": {
      "text/plain": [
       "50.0"
      ]
     },
     "execution_count": 35,
     "metadata": {},
     "output_type": "execute_result"
    }
   ],
   "source": [
    "np.max(cat.predict_proba(X_test[:1]).round(4) * 100)"
   ]
  },
  {
   "cell_type": "code",
   "execution_count": 36,
   "metadata": {
    "tags": []
   },
   "outputs": [],
   "source": [
    "cat_path = os.path.join(MODELS_DIR, 'catboost.pkl')\n",
    "with open(cat_path, 'wb') as file:\n",
    "    pickle.dump(cat, file, protocol=pickle.HIGHEST_PROTOCOL)"
   ]
  },
  {
   "cell_type": "markdown",
   "metadata": {},
   "source": [
    "- Regressor"
   ]
  },
  {
   "cell_type": "code",
   "execution_count": 37,
   "metadata": {
    "tags": []
   },
   "outputs": [],
   "source": [
    "X_train, X_test, y_train, y_test = train_test_split(X, y2, test_size=0.33, random_state=42)"
   ]
  },
  {
   "cell_type": "code",
   "execution_count": 38,
   "metadata": {
    "tags": []
   },
   "outputs": [
    {
     "data": {
      "text/plain": [
       "<catboost.core.CatBoostRegressor at 0x7667689d78d0>"
      ]
     },
     "execution_count": 38,
     "metadata": {},
     "output_type": "execute_result"
    }
   ],
   "source": [
    "catReg =  CatBoostRegressor(iterations=1000, learning_rate=0.001, depth=5, random_state=42)\n",
    "\n",
    "catReg.fit(X_train, y_train,\n",
    "          cat_features=cats,\n",
    "          eval_set=[(X_test, y_test)],\n",
    "          verbose=0)"
   ]
  },
  {
   "cell_type": "code",
   "execution_count": 39,
   "metadata": {
    "tags": []
   },
   "outputs": [
    {
     "data": {
      "text/plain": [
       "1.3750027594294778e-06"
      ]
     },
     "execution_count": 39,
     "metadata": {},
     "output_type": "execute_result"
    }
   ],
   "source": [
    "catReg.score(X_train, y_train)"
   ]
  },
  {
   "cell_type": "code",
   "execution_count": 40,
   "metadata": {
    "tags": []
   },
   "outputs": [
    {
     "data": {
      "text/plain": [
       "-4.301598243117155e-05"
      ]
     },
     "execution_count": 40,
     "metadata": {},
     "output_type": "execute_result"
    }
   ],
   "source": [
    "catReg.score(X_test, y_test)"
   ]
  },
  {
   "cell_type": "code",
   "execution_count": 41,
   "metadata": {
    "tags": []
   },
   "outputs": [],
   "source": [
    "reg_path = os.path.join(MODELS_DIR, 'catReg.pkl')\n",
    "with open(reg_path, 'wb') as file:\n",
    "    pickle.dump(catReg, file, protocol=pickle.HIGHEST_PROTOCOL)"
   ]
  },
  {
   "cell_type": "code",
   "execution_count": 42,
   "metadata": {},
   "outputs": [
    {
     "data": {
      "text/plain": [
       "array([37.51929079, 37.51929079, 37.52007014, 37.51929079, 37.51977362])"
      ]
     },
     "execution_count": 42,
     "metadata": {},
     "output_type": "execute_result"
    }
   ],
   "source": [
    "catReg.predict(X_test[:5])"
   ]
  },
  {
   "cell_type": "code",
   "execution_count": 51,
   "metadata": {
    "tags": []
   },
   "outputs": [
    {
     "name": "stdout",
     "output_type": "stream",
     "text": [
      "/home/riri/Desktop/Soiling/src/notebooks\n"
     ]
    }
   ],
   "source": [
    "print(os.path.dirname(os.path.abspath(__name__)))"
   ]
  },
  {
   "cell_type": "code",
   "execution_count": null,
   "metadata": {},
   "outputs": [],
   "source": []
  }
 ],
 "metadata": {
  "kernelspec": {
   "display_name": "Python 3 (ipykernel)",
   "language": "python",
   "name": "python3"
  },
  "language_info": {
   "codemirror_mode": {
    "name": "ipython",
    "version": 3
   },
   "file_extension": ".py",
   "mimetype": "text/x-python",
   "name": "python",
   "nbconvert_exporter": "python",
   "pygments_lexer": "ipython3",
   "version": "3.11.5"
  }
 },
 "nbformat": 4,
 "nbformat_minor": 4
}
