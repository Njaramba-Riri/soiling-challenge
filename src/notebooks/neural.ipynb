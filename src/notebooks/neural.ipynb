{
 "cells": [
  {
   "cell_type": "code",
   "execution_count": 3,
   "metadata": {
    "tags": []
   },
   "outputs": [
    {
     "name": "stderr",
     "output_type": "stream",
     "text": [
      "2024-05-22 11:51:28.923513: W tensorflow/compiler/tf2tensorrt/utils/py_utils.cc:38] TF-TRT Warning: Could not find TensorRT\n"
     ]
    }
   ],
   "source": [
    "import os\n",
    "import joblib\n",
    "\n",
    "import tensorflow as tf\n",
    "from tensorflow import feature_column\n",
    "from tensorflow.keras import layers\n",
    "from tensorflow.keras.models import Sequential, Model\n",
    "\n",
    "from sklearn.model_selection import train_test_split\n",
    "from sklearn.linear_model import LogisticRegression\n",
    "from sklearn.preprocessing import OneHotEncoder, LabelEncoder\n",
    "\n",
    "import numpy as np\n",
    "import pandas as pd\n",
    "import matplotlib.pyplot as plt"
   ]
  },
  {
   "cell_type": "code",
   "execution_count": 4,
   "metadata": {
    "tags": []
   },
   "outputs": [
    {
     "data": {
      "text/html": [
       "<div>\n",
       "<style scoped>\n",
       "    .dataframe tbody tr th:only-of-type {\n",
       "        vertical-align: middle;\n",
       "    }\n",
       "\n",
       "    .dataframe tbody tr th {\n",
       "        vertical-align: top;\n",
       "    }\n",
       "\n",
       "    .dataframe thead th {\n",
       "        text-align: right;\n",
       "    }\n",
       "</style>\n",
       "<table border=\"1\" class=\"dataframe\">\n",
       "  <thead>\n",
       "    <tr style=\"text-align: right;\">\n",
       "      <th></th>\n",
       "      <th>client</th>\n",
       "      <th>gender</th>\n",
       "      <th>age</th>\n",
       "      <th>hours_slept</th>\n",
       "      <th>sleep_quality</th>\n",
       "      <th>main_food_taken</th>\n",
       "      <th>food_taken_amount</th>\n",
       "      <th>drink</th>\n",
       "      <th>temperature(deg)</th>\n",
       "      <th>exercise</th>\n",
       "      <th>medication</th>\n",
       "      <th>breakfast_time</th>\n",
       "      <th>lunch_time</th>\n",
       "      <th>supper_time</th>\n",
       "      <th>visit_restroom</th>\n",
       "      <th>times_visited</th>\n",
       "      <th>avg_relieve_time(min)</th>\n",
       "      <th>soiled</th>\n",
       "    </tr>\n",
       "  </thead>\n",
       "  <tbody>\n",
       "    <tr>\n",
       "      <th>0</th>\n",
       "      <td>Fox</td>\n",
       "      <td>Female</td>\n",
       "      <td>8</td>\n",
       "      <td>8</td>\n",
       "      <td>Excellent</td>\n",
       "      <td>Ugali</td>\n",
       "      <td>Normal</td>\n",
       "      <td>Porridge</td>\n",
       "      <td>23.8</td>\n",
       "      <td>Yes</td>\n",
       "      <td>Yes</td>\n",
       "      <td>08:14</td>\n",
       "      <td>13:30</td>\n",
       "      <td>19:31</td>\n",
       "      <td>Yes</td>\n",
       "      <td>3</td>\n",
       "      <td>16</td>\n",
       "      <td>No</td>\n",
       "    </tr>\n",
       "    <tr>\n",
       "      <th>1</th>\n",
       "      <td>Charlton</td>\n",
       "      <td>Female</td>\n",
       "      <td>7</td>\n",
       "      <td>8</td>\n",
       "      <td>Excellent</td>\n",
       "      <td>Chapati</td>\n",
       "      <td>Small</td>\n",
       "      <td>Milk</td>\n",
       "      <td>23.2</td>\n",
       "      <td>No</td>\n",
       "      <td>Yes</td>\n",
       "      <td>08:53</td>\n",
       "      <td>12:32</td>\n",
       "      <td>18:28</td>\n",
       "      <td>No</td>\n",
       "      <td>0</td>\n",
       "      <td>18</td>\n",
       "      <td>No</td>\n",
       "    </tr>\n",
       "    <tr>\n",
       "      <th>2</th>\n",
       "      <td>Iqbal</td>\n",
       "      <td>Male</td>\n",
       "      <td>7</td>\n",
       "      <td>7</td>\n",
       "      <td>Excellent</td>\n",
       "      <td>Meat</td>\n",
       "      <td>Heavy</td>\n",
       "      <td>Porridge</td>\n",
       "      <td>18.7</td>\n",
       "      <td>No</td>\n",
       "      <td>Yes</td>\n",
       "      <td>09:43</td>\n",
       "      <td>13:22</td>\n",
       "      <td>19:23</td>\n",
       "      <td>No</td>\n",
       "      <td>0</td>\n",
       "      <td>19</td>\n",
       "      <td>No</td>\n",
       "    </tr>\n",
       "    <tr>\n",
       "      <th>3</th>\n",
       "      <td>Marc</td>\n",
       "      <td>Female</td>\n",
       "      <td>10</td>\n",
       "      <td>7</td>\n",
       "      <td>Excellent</td>\n",
       "      <td>Snacks</td>\n",
       "      <td>Normal</td>\n",
       "      <td>Coffee</td>\n",
       "      <td>18.2</td>\n",
       "      <td>No</td>\n",
       "      <td>No</td>\n",
       "      <td>09:46</td>\n",
       "      <td>13:16</td>\n",
       "      <td>19:32</td>\n",
       "      <td>No</td>\n",
       "      <td>0</td>\n",
       "      <td>22</td>\n",
       "      <td>Yes</td>\n",
       "    </tr>\n",
       "    <tr>\n",
       "      <th>4</th>\n",
       "      <td>King</td>\n",
       "      <td>Female</td>\n",
       "      <td>14</td>\n",
       "      <td>6</td>\n",
       "      <td>Good</td>\n",
       "      <td>Veggies</td>\n",
       "      <td>Normal</td>\n",
       "      <td>Water</td>\n",
       "      <td>20.1</td>\n",
       "      <td>Yes</td>\n",
       "      <td>No</td>\n",
       "      <td>08:57</td>\n",
       "      <td>13:55</td>\n",
       "      <td>18:05</td>\n",
       "      <td>Yes</td>\n",
       "      <td>4</td>\n",
       "      <td>18</td>\n",
       "      <td>No</td>\n",
       "    </tr>\n",
       "  </tbody>\n",
       "</table>\n",
       "</div>"
      ],
      "text/plain": [
       "     client  gender  age  hours_slept sleep_quality main_food_taken  \\\n",
       "0       Fox  Female    8            8     Excellent           Ugali   \n",
       "1  Charlton  Female    7            8     Excellent         Chapati   \n",
       "2     Iqbal    Male    7            7     Excellent            Meat   \n",
       "3      Marc  Female   10            7     Excellent          Snacks   \n",
       "4      King  Female   14            6          Good         Veggies   \n",
       "\n",
       "  food_taken_amount     drink  temperature(deg) exercise medication  \\\n",
       "0            Normal  Porridge              23.8      Yes        Yes   \n",
       "1             Small      Milk              23.2       No        Yes   \n",
       "2             Heavy  Porridge              18.7       No        Yes   \n",
       "3            Normal    Coffee              18.2       No         No   \n",
       "4            Normal     Water              20.1      Yes         No   \n",
       "\n",
       "  breakfast_time lunch_time supper_time visit_restroom  times_visited  \\\n",
       "0          08:14      13:30       19:31            Yes              3   \n",
       "1          08:53      12:32       18:28             No              0   \n",
       "2          09:43      13:22       19:23             No              0   \n",
       "3          09:46      13:16       19:32             No              0   \n",
       "4          08:57      13:55       18:05            Yes              4   \n",
       "\n",
       "   avg_relieve_time(min) soiled  \n",
       "0                     16     No  \n",
       "1                     18     No  \n",
       "2                     19     No  \n",
       "3                     22    Yes  \n",
       "4                     18     No  "
      ]
     },
     "execution_count": 4,
     "metadata": {},
     "output_type": "execute_result"
    }
   ],
   "source": [
    "df = pd.read_csv(\"/home/riri/Desktop/Soiling/datasets/soiling.csv\")\n",
    "df.head()"
   ]
  },
  {
   "cell_type": "code",
   "execution_count": 5,
   "metadata": {
    "tags": []
   },
   "outputs": [
    {
     "data": {
      "text/html": [
       "<div>\n",
       "<style scoped>\n",
       "    .dataframe tbody tr th:only-of-type {\n",
       "        vertical-align: middle;\n",
       "    }\n",
       "\n",
       "    .dataframe tbody tr th {\n",
       "        vertical-align: top;\n",
       "    }\n",
       "\n",
       "    .dataframe thead th {\n",
       "        text-align: right;\n",
       "    }\n",
       "</style>\n",
       "<table border=\"1\" class=\"dataframe\">\n",
       "  <thead>\n",
       "    <tr style=\"text-align: right;\">\n",
       "      <th></th>\n",
       "      <th>client</th>\n",
       "      <th>gender</th>\n",
       "      <th>age</th>\n",
       "      <th>hours_slept</th>\n",
       "      <th>sleep_quality</th>\n",
       "      <th>main_food_taken</th>\n",
       "      <th>food_taken_amount</th>\n",
       "      <th>drink</th>\n",
       "      <th>temperature(deg)</th>\n",
       "      <th>exercise</th>\n",
       "      <th>medication</th>\n",
       "      <th>breakfast_time</th>\n",
       "      <th>lunch_time</th>\n",
       "      <th>supper_time</th>\n",
       "      <th>visit_restroom</th>\n",
       "      <th>times_visited</th>\n",
       "      <th>avg_relieve_time(min)</th>\n",
       "      <th>soiled</th>\n",
       "      <th>target</th>\n",
       "    </tr>\n",
       "  </thead>\n",
       "  <tbody>\n",
       "    <tr>\n",
       "      <th>0</th>\n",
       "      <td>Fox</td>\n",
       "      <td>Female</td>\n",
       "      <td>8</td>\n",
       "      <td>8</td>\n",
       "      <td>Excellent</td>\n",
       "      <td>Ugali</td>\n",
       "      <td>Normal</td>\n",
       "      <td>Porridge</td>\n",
       "      <td>23.8</td>\n",
       "      <td>Yes</td>\n",
       "      <td>Yes</td>\n",
       "      <td>08:14</td>\n",
       "      <td>13:30</td>\n",
       "      <td>19:31</td>\n",
       "      <td>Yes</td>\n",
       "      <td>3</td>\n",
       "      <td>16</td>\n",
       "      <td>No</td>\n",
       "      <td>0</td>\n",
       "    </tr>\n",
       "    <tr>\n",
       "      <th>1</th>\n",
       "      <td>Charlton</td>\n",
       "      <td>Female</td>\n",
       "      <td>7</td>\n",
       "      <td>8</td>\n",
       "      <td>Excellent</td>\n",
       "      <td>Chapati</td>\n",
       "      <td>Small</td>\n",
       "      <td>Milk</td>\n",
       "      <td>23.2</td>\n",
       "      <td>No</td>\n",
       "      <td>Yes</td>\n",
       "      <td>08:53</td>\n",
       "      <td>12:32</td>\n",
       "      <td>18:28</td>\n",
       "      <td>No</td>\n",
       "      <td>0</td>\n",
       "      <td>18</td>\n",
       "      <td>No</td>\n",
       "      <td>0</td>\n",
       "    </tr>\n",
       "    <tr>\n",
       "      <th>2</th>\n",
       "      <td>Iqbal</td>\n",
       "      <td>Male</td>\n",
       "      <td>7</td>\n",
       "      <td>7</td>\n",
       "      <td>Excellent</td>\n",
       "      <td>Meat</td>\n",
       "      <td>Heavy</td>\n",
       "      <td>Porridge</td>\n",
       "      <td>18.7</td>\n",
       "      <td>No</td>\n",
       "      <td>Yes</td>\n",
       "      <td>09:43</td>\n",
       "      <td>13:22</td>\n",
       "      <td>19:23</td>\n",
       "      <td>No</td>\n",
       "      <td>0</td>\n",
       "      <td>19</td>\n",
       "      <td>No</td>\n",
       "      <td>0</td>\n",
       "    </tr>\n",
       "    <tr>\n",
       "      <th>3</th>\n",
       "      <td>Marc</td>\n",
       "      <td>Female</td>\n",
       "      <td>10</td>\n",
       "      <td>7</td>\n",
       "      <td>Excellent</td>\n",
       "      <td>Snacks</td>\n",
       "      <td>Normal</td>\n",
       "      <td>Coffee</td>\n",
       "      <td>18.2</td>\n",
       "      <td>No</td>\n",
       "      <td>No</td>\n",
       "      <td>09:46</td>\n",
       "      <td>13:16</td>\n",
       "      <td>19:32</td>\n",
       "      <td>No</td>\n",
       "      <td>0</td>\n",
       "      <td>22</td>\n",
       "      <td>Yes</td>\n",
       "      <td>1</td>\n",
       "    </tr>\n",
       "    <tr>\n",
       "      <th>4</th>\n",
       "      <td>King</td>\n",
       "      <td>Female</td>\n",
       "      <td>14</td>\n",
       "      <td>6</td>\n",
       "      <td>Good</td>\n",
       "      <td>Veggies</td>\n",
       "      <td>Normal</td>\n",
       "      <td>Water</td>\n",
       "      <td>20.1</td>\n",
       "      <td>Yes</td>\n",
       "      <td>No</td>\n",
       "      <td>08:57</td>\n",
       "      <td>13:55</td>\n",
       "      <td>18:05</td>\n",
       "      <td>Yes</td>\n",
       "      <td>4</td>\n",
       "      <td>18</td>\n",
       "      <td>No</td>\n",
       "      <td>0</td>\n",
       "    </tr>\n",
       "  </tbody>\n",
       "</table>\n",
       "</div>"
      ],
      "text/plain": [
       "     client  gender  age  hours_slept sleep_quality main_food_taken  \\\n",
       "0       Fox  Female    8            8     Excellent           Ugali   \n",
       "1  Charlton  Female    7            8     Excellent         Chapati   \n",
       "2     Iqbal    Male    7            7     Excellent            Meat   \n",
       "3      Marc  Female   10            7     Excellent          Snacks   \n",
       "4      King  Female   14            6          Good         Veggies   \n",
       "\n",
       "  food_taken_amount     drink  temperature(deg) exercise medication  \\\n",
       "0            Normal  Porridge              23.8      Yes        Yes   \n",
       "1             Small      Milk              23.2       No        Yes   \n",
       "2             Heavy  Porridge              18.7       No        Yes   \n",
       "3            Normal    Coffee              18.2       No         No   \n",
       "4            Normal     Water              20.1      Yes         No   \n",
       "\n",
       "  breakfast_time lunch_time supper_time visit_restroom  times_visited  \\\n",
       "0          08:14      13:30       19:31            Yes              3   \n",
       "1          08:53      12:32       18:28             No              0   \n",
       "2          09:43      13:22       19:23             No              0   \n",
       "3          09:46      13:16       19:32             No              0   \n",
       "4          08:57      13:55       18:05            Yes              4   \n",
       "\n",
       "   avg_relieve_time(min) soiled  target  \n",
       "0                     16     No       0  \n",
       "1                     18     No       0  \n",
       "2                     19     No       0  \n",
       "3                     22    Yes       1  \n",
       "4                     18     No       0  "
      ]
     },
     "execution_count": 5,
     "metadata": {},
     "output_type": "execute_result"
    }
   ],
   "source": [
    "df['target'] = np.where(df['soiled'] == 'Yes', 1, 0)\n",
    "df.head()"
   ]
  },
  {
   "cell_type": "code",
   "execution_count": 6,
   "metadata": {
    "tags": []
   },
   "outputs": [],
   "source": [
    "df.drop(columns=['client', 'breakfast_time', 'lunch_time', 'supper_time', 'soiled'], inplace=True)"
   ]
  },
  {
   "cell_type": "code",
   "execution_count": 7,
   "metadata": {
    "tags": []
   },
   "outputs": [
    {
     "name": "stdout",
     "output_type": "stream",
     "text": [
      "18260 training examples\n",
      "5707 test examples\n",
      "4565 validation examples\n"
     ]
    }
   ],
   "source": [
    "train, test = train_test_split(df, test_size=0.2)\n",
    "train, valid = train_test_split(train, test_size=0.2)\n",
    "print(len(train), \"training examples\")\n",
    "print(len(test), \"test examples\")\n",
    "print(len(valid), \"validation examples\")"
   ]
  },
  {
   "cell_type": "code",
   "execution_count": 8,
   "metadata": {
    "tags": []
   },
   "outputs": [],
   "source": [
    "def transform_df(dataframe: pd.DataFrame, shuffle: bool=True, batch_size: int=32):\n",
    "    df = dataframe.copy()\n",
    "    lables = df.pop('target')\n",
    "    ds = tf.data.Dataset.from_tensor_slices((dict(df), lables))\n",
    "    if shuffle:\n",
    "        ds = ds.shuffle(buffer_size=len(df))\n",
    "    ds.batch(batch_size)\n",
    "    \n",
    "    return ds"
   ]
  },
  {
   "cell_type": "code",
   "execution_count": 9,
   "metadata": {
    "tags": []
   },
   "outputs": [],
   "source": [
    "train_ds = transform_df(train)\n",
    "val_ds = transform_df(valid, shuffle=False)\n",
    "test_ds = transform_df(test, shuffle=False)"
   ]
  },
  {
   "cell_type": "code",
   "execution_count": 10,
   "metadata": {
    "tags": []
   },
   "outputs": [
    {
     "name": "stdout",
     "output_type": "stream",
     "text": [
      "All features: ['gender', 'age', 'hours_slept', 'sleep_quality', 'main_food_taken', 'food_taken_amount', 'drink', 'temperature(deg)', 'exercise', 'medication', 'visit_restroom', 'times_visited', 'avg_relieve_time(min)']\n",
      "Batch of ages: tf.Tensor(11, shape=(), dtype=int64)\n",
      "A batch of targets: 1\n"
     ]
    },
    {
     "name": "stderr",
     "output_type": "stream",
     "text": [
      "2024-05-22 11:52:49.673618: W tensorflow/core/framework/local_rendezvous.cc:404] Local rendezvous is aborting with status: OUT_OF_RANGE: End of sequence\n"
     ]
    }
   ],
   "source": [
    "for feature_batch, lable_batch in train_ds.take(1):\n",
    "    print(\"All features:\", list(feature_batch.keys()))\n",
    "    print(\"Batch of ages:\", feature_batch['age'])\n",
    "    print(\"A batch of targets:\", lable_batch.numpy())"
   ]
  },
  {
   "cell_type": "code",
   "execution_count": 11,
   "metadata": {
    "tags": []
   },
   "outputs": [],
   "source": [
    "example_batch = next(iter(train_ds))[0]"
   ]
  },
  {
   "cell_type": "code",
   "execution_count": 12,
   "metadata": {
    "tags": []
   },
   "outputs": [],
   "source": [
    "def demo(feature_column):\n",
    "    feature_layer = layers.DenseFeatures(feature_column)\n",
    "    print(feature_layer(example_batch).numpy())"
   ]
  },
  {
   "cell_type": "code",
   "execution_count": 14,
   "metadata": {},
   "outputs": [
    {
     "ename": "AttributeError",
     "evalue": "module 'keras._tf_keras.keras.layers' has no attribute 'DenseFeatures'",
     "output_type": "error",
     "traceback": [
      "\u001b[0;31m---------------------------------------------------------------------------\u001b[0m",
      "\u001b[0;31mAttributeError\u001b[0m                            Traceback (most recent call last)",
      "Cell \u001b[0;32mIn[14], line 1\u001b[0m\n\u001b[0;32m----> 1\u001b[0m tf\u001b[38;5;241m.\u001b[39mkeras\u001b[38;5;241m.\u001b[39mlayers\u001b[38;5;241m.\u001b[39mDenseFeatures\n",
      "\u001b[0;31mAttributeError\u001b[0m: module 'keras._tf_keras.keras.layers' has no attribute 'DenseFeatures'"
     ]
    }
   ],
   "source": [
    "tf.keras.layers.DenseFeatures"
   ]
  },
  {
   "cell_type": "markdown",
   "metadata": {},
   "source": [
    "### Numeric cols."
   ]
  },
  {
   "cell_type": "code",
   "execution_count": 12,
   "metadata": {},
   "outputs": [
    {
     "name": "stdout",
     "output_type": "stream",
     "text": [
      "WARNING:tensorflow:From /tmp/ipykernel_4516/2126662828.py:1: numeric_column (from tensorflow.python.feature_column.feature_column_v2) is deprecated and will be removed in a future version.\n",
      "Instructions for updating:\n",
      "Use Keras preprocessing layers instead, either directly or via the `tf.keras.utils.FeatureSpace` utility. Each of `tf.feature_column.*` has a functional equivalent in `tf.keras.layers` for feature preprocessing when training a Keras model.\n"
     ]
    },
    {
     "ename": "NameError",
     "evalue": "name 'demo' is not defined",
     "output_type": "error",
     "traceback": [
      "\u001b[0;31m---------------------------------------------------------------------------\u001b[0m",
      "\u001b[0;31mNameError\u001b[0m                                 Traceback (most recent call last)",
      "Cell \u001b[0;32mIn[12], line 2\u001b[0m\n\u001b[1;32m      1\u001b[0m temp \u001b[38;5;241m=\u001b[39m feature_column\u001b[38;5;241m.\u001b[39mnumeric_column(\u001b[38;5;124m'\u001b[39m\u001b[38;5;124mhours_slept\u001b[39m\u001b[38;5;124m'\u001b[39m)\n\u001b[0;32m----> 2\u001b[0m demo(temp)\n",
      "\u001b[0;31mNameError\u001b[0m: name 'demo' is not defined"
     ]
    }
   ],
   "source": [
    "temp = feature_column.numeric_column('hours_slept')\n",
    "demo(temp)"
   ]
  },
  {
   "cell_type": "code",
   "execution_count": null,
   "metadata": {},
   "outputs": [],
   "source": []
  }
 ],
 "metadata": {
  "kernelspec": {
   "display_name": "Python 3 (ipykernel)",
   "language": "python",
   "name": "python3"
  },
  "language_info": {
   "codemirror_mode": {
    "name": "ipython",
    "version": 3
   },
   "file_extension": ".py",
   "mimetype": "text/x-python",
   "name": "python",
   "nbconvert_exporter": "python",
   "pygments_lexer": "ipython3",
   "version": "3.11.5"
  }
 },
 "nbformat": 4,
 "nbformat_minor": 4
}
